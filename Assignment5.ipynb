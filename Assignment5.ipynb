{
 "cells": [
  {
   "cell_type": "raw",
   "id": "f96e5153-7625-46c1-8ac1-b6a5087367ca",
   "metadata": {},
   "source": [
    "1. What does an empty dictionary's code look like?"
   ]
  },
  {
   "cell_type": "code",
   "execution_count": null,
   "id": "bcad66a1-897b-493e-92f3-29f0c3113ce6",
   "metadata": {},
   "outputs": [],
   "source": [
    "Ans: {}"
   ]
  },
  {
   "cell_type": "raw",
   "id": "66a8ef2a-7a45-4ce1-b111-c9cc1c157714",
   "metadata": {},
   "source": [
    "2. What is the value of a dictionary value with the key 'foo' and the value 42?"
   ]
  },
  {
   "cell_type": "raw",
   "id": "2ce0d3ec-7061-4c81-a047-44a82f503d9f",
   "metadata": {},
   "source": [
    "Ans: {'foo':42}"
   ]
  },
  {
   "cell_type": "raw",
   "id": "001cd619-6bda-44aa-8522-60a4ad012be7",
   "metadata": {},
   "source": [
    "3. What is the most significant distinction between a dictionary and a list?"
   ]
  },
  {
   "cell_type": "raw",
   "id": "9b3213ec-5e3a-4e4c-bbf0-cd6156bd23a3",
   "metadata": {},
   "source": [
    "Ans: A dictionary is an unordered collection of data that stores data in key and value pairs whereas, a list is a colection of ordered data."
   ]
  },
  {
   "cell_type": "raw",
   "id": "d59acdc3-cb4a-4687-8e75-c53bd3eacd89",
   "metadata": {},
   "source": [
    "4. What happens if you try to access spam['500'] if spam is {'bar': 100}?"
   ]
  },
  {
   "cell_type": "raw",
   "id": "f7e2c5f7-93e0-4237-bdf3-d27a9c9ce358",
   "metadata": {},
   "source": [
    "Ans: A KeyError is obtained"
   ]
  },
  {
   "cell_type": "code",
   "execution_count": 1,
   "id": "e59091f0-f805-4dd1-a010-f70050b31c1a",
   "metadata": {},
   "outputs": [
    {
     "ename": "KeyError",
     "evalue": "'500'",
     "output_type": "error",
     "traceback": [
      "\u001b[0;31m---------------------------------------------------------------------------\u001b[0m",
      "\u001b[0;31mKeyError\u001b[0m                                  Traceback (most recent call last)",
      "Cell \u001b[0;32mIn [1], line 2\u001b[0m\n\u001b[1;32m      1\u001b[0m spam \u001b[38;5;241m=\u001b[39m {\u001b[38;5;124m'\u001b[39m\u001b[38;5;124mbar\u001b[39m\u001b[38;5;124m'\u001b[39m:\u001b[38;5;241m100\u001b[39m}\n\u001b[0;32m----> 2\u001b[0m \u001b[43mspam\u001b[49m\u001b[43m[\u001b[49m\u001b[38;5;124;43m'\u001b[39;49m\u001b[38;5;124;43m500\u001b[39;49m\u001b[38;5;124;43m'\u001b[39;49m\u001b[43m]\u001b[49m\n",
      "\u001b[0;31mKeyError\u001b[0m: '500'"
     ]
    }
   ],
   "source": [
    "spam = {'bar':100}\n",
    "spam['500']"
   ]
  },
  {
   "cell_type": "raw",
   "id": "a7775dec-1334-44c4-9147-9fb120a56860",
   "metadata": {},
   "source": [
    "5. If a dictionary is stored in spam, what is the difference between the expressions 'cat' in spam and 'cat' in spam.keys()?"
   ]
  },
  {
   "cell_type": "code",
   "execution_count": null,
   "id": "a06a74e0-3839-4bcd-b23c-f3701448a438",
   "metadata": {},
   "outputs": [],
   "source": [
    "Ans: There is no difference"
   ]
  },
  {
   "cell_type": "code",
   "execution_count": 2,
   "id": "3699290f-ebda-4cc0-88e8-6199d6b2a202",
   "metadata": {},
   "outputs": [
    {
     "name": "stdout",
     "output_type": "stream",
     "text": [
      "bar\n",
      "beer\n"
     ]
    }
   ],
   "source": [
    "spam = {'bar':100,'beer':200}\n",
    "for cat in spam:\n",
    "    print(cat)"
   ]
  },
  {
   "cell_type": "code",
   "execution_count": 3,
   "id": "99a0b428-ad61-43e5-a76a-a5cce0e3d39c",
   "metadata": {},
   "outputs": [
    {
     "name": "stdout",
     "output_type": "stream",
     "text": [
      "bar\n",
      "beer\n"
     ]
    }
   ],
   "source": [
    "spam = {'bar':100,'beer':200}\n",
    "for cat in spam.keys():\n",
    "    print(cat)"
   ]
  },
  {
   "cell_type": "code",
   "execution_count": null,
   "id": "7f688324-a2b3-41bd-ad82-9fe29c3447af",
   "metadata": {},
   "outputs": [],
   "source": [
    "6. If a dictionary is stored in spam, what is the difference between the expressions 'cat' in spam and 'cat' in spam.values()?"
   ]
  },
  {
   "cell_type": "code",
   "execution_count": null,
   "id": "07c1e4bf-810d-48e3-8fbd-e31fb021ebfc",
   "metadata": {},
   "outputs": [],
   "source": [
    "Ans:\" 'cat' in spam \" checks if there is any key called 'cat' present from among the keys of dictionary.\n",
    "\n",
    "'cat' in spam.values() checks if there is any value called 'cat' present from among the values of dictionary"
   ]
  },
  {
   "cell_type": "code",
   "execution_count": null,
   "id": "3e0517e8-d907-4281-bc45-d4217608586f",
   "metadata": {},
   "outputs": [],
   "source": [
    "7. What is a shortcut for the following code?\n",
    "if 'color' not in spam:\n",
    "spam['color'] = 'black'"
   ]
  },
  {
   "cell_type": "code",
   "execution_count": null,
   "id": "dea22108-6042-4c41-843f-9c26ecbeff74",
   "metadata": {},
   "outputs": [],
   "source": [
    "Ans:"
   ]
  },
  {
   "cell_type": "code",
   "execution_count": 5,
   "id": "04426e1a-7b22-4216-a943-3708aef38f1d",
   "metadata": {},
   "outputs": [
    {
     "data": {
      "text/plain": [
       "'black'"
      ]
     },
     "execution_count": 5,
     "metadata": {},
     "output_type": "execute_result"
    }
   ],
   "source": [
    "spam.setdefault('color','black')"
   ]
  },
  {
   "cell_type": "code",
   "execution_count": 6,
   "id": "171ac347-86f6-42ff-8485-84378305f3f4",
   "metadata": {},
   "outputs": [
    {
     "data": {
      "text/plain": [
       "{'bar': 100, 'beer': 200, 'color': 'black'}"
      ]
     },
     "execution_count": 6,
     "metadata": {},
     "output_type": "execute_result"
    }
   ],
   "source": [
    "spam"
   ]
  },
  {
   "cell_type": "code",
   "execution_count": null,
   "id": "709055ba-8ffe-4705-b1a7-823c93f735dc",
   "metadata": {},
   "outputs": [],
   "source": [
    "8. How do you \"pretty print\" dictionary values using which module and function?"
   ]
  },
  {
   "cell_type": "code",
   "execution_count": null,
   "id": "958b9720-0e25-478e-b4b8-1eb5ba9a9aa9",
   "metadata": {},
   "outputs": [],
   "source": [
    "Ans: pprint.pprint()"
   ]
  },
  {
   "cell_type": "code",
   "execution_count": 9,
   "id": "f52bb819-aae9-4f30-a33c-f3d1c5a700b3",
   "metadata": {},
   "outputs": [
    {
     "name": "stdout",
     "output_type": "stream",
     "text": [
      "{'bar': 100, 'beer': 200, 'color': 'black'}\n"
     ]
    }
   ],
   "source": [
    "pprint.pprint(spam)"
   ]
  },
  {
   "cell_type": "code",
   "execution_count": 8,
   "id": "fc12ee9b-2439-4e8b-a872-d08d62a45afa",
   "metadata": {},
   "outputs": [],
   "source": [
    "import pprint"
   ]
  },
  {
   "cell_type": "code",
   "execution_count": null,
   "id": "f65ee9cc-8c7f-4ec2-bbe3-9620a1b17f94",
   "metadata": {},
   "outputs": [],
   "source": []
  }
 ],
 "metadata": {
  "kernelspec": {
   "display_name": "Python 3 (ipykernel)",
   "language": "python",
   "name": "python3"
  },
  "language_info": {
   "codemirror_mode": {
    "name": "ipython",
    "version": 3
   },
   "file_extension": ".py",
   "mimetype": "text/x-python",
   "name": "python",
   "nbconvert_exporter": "python",
   "pygments_lexer": "ipython3",
   "version": "3.10.6"
  }
 },
 "nbformat": 4,
 "nbformat_minor": 5
}
